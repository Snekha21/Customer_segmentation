{
 "cells": [
  {
   "cell_type": "code",
   "execution_count": null,
   "id": "4bf83164-126d-492f-b8ca-31ce08c5d0a9",
   "metadata": {},
   "outputs": [],
   "source": [
    "\n",
    "# spectral clustering\n",
    "from numpy import unique\n",
    "from numpy import where\n",
    "from sklearn.datasets import make_classification\n",
    "from sklearn.cluster import SpectralClustering\n",
    "from matplotlib import pyplot\n",
    "# define dataset\n",
    "from sklearn.preprocessing import StandardScaler\n",
    "scalar=StandardScaler()\n",
    "import pandas as pd\n"
   ]
  },
  {
   "cell_type": "code",
   "execution_count": null,
   "id": "02c89b84-6cc4-45c6-97b1-e25747dd4418",
   "metadata": {},
   "outputs": [],
   "source": [
    "df = pd.read_csv('scaled_df.csv')\n",
    "X = scalar.fit_transform(df)\n",
    "# define the model\n",
    "model = SpectralClustering(n_clusters=2)\n",
    "# fit model and predict clusters\n",
    "yhat = model.fit_predict(X)\n",
    "# retrieve unique clusters\n",
    "clusters = unique(yhat)\n",
    "# create scatter plot for samples from each cluster\n",
    "for cluster in clusters:\n",
    " # get row indexes for samples with this cluster\n",
    " row_ix = where(yhat == cluster)\n",
    " # create scatter of these samples\n",
    " pyplot.scatter(X[row_ix, 0], X[row_ix, 1])\n",
    "# show the plot\n",
    "pyplot.show()"
   ]
  }
 ],
 "metadata": {
  "kernelspec": {
   "display_name": "Python 3 (ipykernel)",
   "language": "python",
   "name": "python3"
  },
  "language_info": {
   "codemirror_mode": {
    "name": "ipython",
    "version": 3
   },
   "file_extension": ".py",
   "mimetype": "text/x-python",
   "name": "python",
   "nbconvert_exporter": "python",
   "pygments_lexer": "ipython3",
   "version": "3.8.13"
  }
 },
 "nbformat": 4,
 "nbformat_minor": 5
}
