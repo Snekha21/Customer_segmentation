{
 "cells": [
  {
   "cell_type": "code",
   "execution_count": 8,
   "id": "29e06d04-c098-41f6-8f77-59353d5d267d",
   "metadata": {},
   "outputs": [],
   "source": [
    "import numpy as np # linear algebra\n",
    "import pandas as pd # data processing, CSV file I/O (e.g. pd.read_csv)\n",
    "from scipy.stats import multivariate_normal as mvn\n",
    "import math\n",
    "\n",
    "from numpy.linalg import slogdet, det, solve\n",
    "import matplotlib.pyplot as plt\n",
    "plt.style.use('fivethirtyeight')\n",
    "import time\n",
    "\n",
    "from sklearn.datasets import load_digits\n",
    "from sklearn.mixture import GaussianMixture\n",
    "from sklearn.cluster import KMeans\n",
    "from sklearn.feature_extraction.text import TfidfVectorizer\n",
    "from sklearn.decomposition import PCA\n",
    "from sklearn.preprocessing import normalize\n",
    "\n",
    "import os, sys, email,re\n",
    "from nltk.corpus import stopwords"
   ]
  },
  {
   "cell_type": "code",
   "execution_count": 11,
   "id": "a29d822d-2f3a-44c1-b24e-13e0d42bd1be",
   "metadata": {},
   "outputs": [],
   "source": [
    "import matplotlib.pyplot as plt\n",
    "import seaborn as sns; sns.set()\n",
    "import numpy as np"
   ]
  },
  {
   "cell_type": "code",
   "execution_count": 90,
   "id": "596e64ca-c14a-492a-874e-9ce0d7ed00ae",
   "metadata": {},
   "outputs": [
    {
     "data": {
      "text/html": [
       "<div>\n",
       "<style scoped>\n",
       "    .dataframe tbody tr th:only-of-type {\n",
       "        vertical-align: middle;\n",
       "    }\n",
       "\n",
       "    .dataframe tbody tr th {\n",
       "        vertical-align: top;\n",
       "    }\n",
       "\n",
       "    .dataframe thead th {\n",
       "        text-align: right;\n",
       "    }\n",
       "</style>\n",
       "<table border=\"1\" class=\"dataframe\">\n",
       "  <thead>\n",
       "    <tr style=\"text-align: right;\">\n",
       "      <th></th>\n",
       "      <th>PURCHASES</th>\n",
       "      <th>TENURE</th>\n",
       "      <th>BALANCE</th>\n",
       "      <th>CREDIT_LIMIT</th>\n",
       "    </tr>\n",
       "  </thead>\n",
       "  <tbody>\n",
       "    <tr>\n",
       "      <th>0</th>\n",
       "      <td>95.40</td>\n",
       "      <td>12</td>\n",
       "      <td>40.900749</td>\n",
       "      <td>1000.0</td>\n",
       "    </tr>\n",
       "    <tr>\n",
       "      <th>1</th>\n",
       "      <td>0.00</td>\n",
       "      <td>12</td>\n",
       "      <td>3202.467416</td>\n",
       "      <td>7000.0</td>\n",
       "    </tr>\n",
       "    <tr>\n",
       "      <th>2</th>\n",
       "      <td>773.17</td>\n",
       "      <td>12</td>\n",
       "      <td>2495.148862</td>\n",
       "      <td>7500.0</td>\n",
       "    </tr>\n",
       "    <tr>\n",
       "      <th>3</th>\n",
       "      <td>1499.00</td>\n",
       "      <td>12</td>\n",
       "      <td>1666.670542</td>\n",
       "      <td>7500.0</td>\n",
       "    </tr>\n",
       "    <tr>\n",
       "      <th>4</th>\n",
       "      <td>16.00</td>\n",
       "      <td>12</td>\n",
       "      <td>817.714335</td>\n",
       "      <td>1200.0</td>\n",
       "    </tr>\n",
       "    <tr>\n",
       "      <th>...</th>\n",
       "      <td>...</td>\n",
       "      <td>...</td>\n",
       "      <td>...</td>\n",
       "      <td>...</td>\n",
       "    </tr>\n",
       "    <tr>\n",
       "      <th>8945</th>\n",
       "      <td>291.12</td>\n",
       "      <td>6</td>\n",
       "      <td>28.493517</td>\n",
       "      <td>1000.0</td>\n",
       "    </tr>\n",
       "    <tr>\n",
       "      <th>8946</th>\n",
       "      <td>300.00</td>\n",
       "      <td>6</td>\n",
       "      <td>19.183215</td>\n",
       "      <td>1000.0</td>\n",
       "    </tr>\n",
       "    <tr>\n",
       "      <th>8947</th>\n",
       "      <td>144.40</td>\n",
       "      <td>6</td>\n",
       "      <td>23.398673</td>\n",
       "      <td>1000.0</td>\n",
       "    </tr>\n",
       "    <tr>\n",
       "      <th>8948</th>\n",
       "      <td>0.00</td>\n",
       "      <td>6</td>\n",
       "      <td>13.457564</td>\n",
       "      <td>500.0</td>\n",
       "    </tr>\n",
       "    <tr>\n",
       "      <th>8949</th>\n",
       "      <td>1093.25</td>\n",
       "      <td>6</td>\n",
       "      <td>372.708075</td>\n",
       "      <td>1200.0</td>\n",
       "    </tr>\n",
       "  </tbody>\n",
       "</table>\n",
       "<p>8950 rows × 4 columns</p>\n",
       "</div>"
      ],
      "text/plain": [
       "      PURCHASES  TENURE      BALANCE  CREDIT_LIMIT\n",
       "0         95.40      12    40.900749        1000.0\n",
       "1          0.00      12  3202.467416        7000.0\n",
       "2        773.17      12  2495.148862        7500.0\n",
       "3       1499.00      12  1666.670542        7500.0\n",
       "4         16.00      12   817.714335        1200.0\n",
       "...         ...     ...          ...           ...\n",
       "8945     291.12       6    28.493517        1000.0\n",
       "8946     300.00       6    19.183215        1000.0\n",
       "8947     144.40       6    23.398673        1000.0\n",
       "8948       0.00       6    13.457564         500.0\n",
       "8949    1093.25       6   372.708075        1200.0\n",
       "\n",
       "[8950 rows x 4 columns]"
      ]
     },
     "metadata": {},
     "output_type": "display_data"
    }
   ],
   "source": [
    "import pandas as pd\n",
    "data = pd.read_csv('Clustered_Customer_Data.csv')\n",
    "df = pd.DataFrame()\n",
    "# df = df.join(data['PURCHASES'])\n",
    "# df = df.join(data['TENURE'])\n",
    "df.insert(0, 'PURCHASES', data['PURCHASES'])\n",
    "df.insert(1, 'TENURE', data['TENURE'])\n",
    "df.insert(2, 'BALANCE', data['BALANCE'])\n",
    "df.insert(3, 'CREDIT_LIMIT', data['CREDIT_LIMIT'])\n",
    "\n",
    "\n",
    "display(df)\n",
    "# training gaussian mixture model \n",
    "from sklearn.mixture import GaussianMixture\n",
    "gmm = GaussianMixture(n_components=3)\n",
    "# del data['CUST_ID']\n",
    "\n",
    "gmm.fit(df)\n",
    "\n",
    "#predictions from gmm\n",
    "labels = gmm.predict(df)\n",
    "frame = pd.DataFrame(df)\n",
    "# frame['cluster'] = labels\n",
    "# frame.columns = ['PURCHASES', 'TENURE', 'BALANCE','CREDIT_LIMIT']\n",
    "\n",
    "# color=['blue','green','cyan', 'black']\n",
    "# for k in range(0,4):\n",
    "#     data = frame[frame[\"cluster\"]==k]\n",
    "#     plt.scatter(df[\"PURCHASES\"],df[\"BALANCE\"],c=color[k])\n",
    "# plt.show()"
   ]
  },
  {
   "cell_type": "code",
   "execution_count": 165,
   "id": "15f1e560-afe8-4ffb-83cd-ec039b59ac12",
   "metadata": {},
   "outputs": [
    {
     "data": {
      "image/png": "[encoded data removed]",
      "text/plain": [
       "<Figure size 432x288 with 1 Axes>"
      ]
     },
     "metadata": {
      "needs_background": "light"
     },
     "output_type": "display_data"
    }
   ],
   "source": [
    "# Plot the data with K Means Labels\n",
    "from sklearn.cluster import KMeans\n",
    "kmeans = KMeans(3, random_state=0)\n",
    "labels = kmeans.fit(df).predict(df)\n",
    "plt.scatter(df['PURCHASES'], df['TENURE'], c=labels, s=40, cmap='viridis');"
   ]
  },
  {
   "cell_type": "code",
   "execution_count": 166,
   "id": "09113396-724a-4679-83e9-6bfb467f47bf",
   "metadata": {},
   "outputs": [
    {
     "data": {
      "text/plain": [
       "array([2, 2, 2, ..., 0, 0, 0])"
      ]
     },
     "execution_count": 166,
     "metadata": {},
     "output_type": "execute_result"
    }
   ],
   "source": [
    "from sklearn import mixture\n",
    "from sklearn.mixture import GaussianMixture\n",
    "# import sklearn.mixture.GMM\n",
    "gmm = GaussianMixture(n_components=3).fit(df)\n",
    "labels = gmm.predict(df)\n",
    "# plt.scatter(df[:, 0], df[:, 1], c=labels, s=40, cmap='viridis');\n",
    "labels"
   ]
  },
  {
   "cell_type": "code",
   "execution_count": 167,
   "id": "d37681da-f62f-490e-ac76-417e00226192",
   "metadata": {},
   "outputs": [
    {
     "name": "stdout",
     "output_type": "stream",
     "text": [
      "[[0.001 0.    0.999]\n",
      " [0.    0.    1.   ]\n",
      " [0.    0.    1.   ]\n",
      " [0.    0.    1.   ]\n",
      " [0.001 0.    0.999]]\n"
     ]
    }
   ],
   "source": [
    "probs = gmm.predict_proba(df)\n",
    "print(probs[:5].round(3))"
   ]
  },
  {
   "cell_type": "code",
   "execution_count": 168,
   "id": "16f47779-ed82-4272-9864-a1b2875565a0",
   "metadata": {},
   "outputs": [
    {
     "data": {
      "image/png": "[encoded data removed]",
      "text/plain": [
       "<Figure size 432x288 with 1 Axes>"
      ]
     },
     "metadata": {
      "needs_background": "light"
     },
     "output_type": "display_data"
    }
   ],
   "source": [
    "size = 50 * probs.max(1) ** 2  # square emphasizes differences\n",
    "plt.scatter(df['PURCHASES'], df['TENURE'], c=labels, cmap='viridis', s=size);"
   ]
  },
  {
   "cell_type": "code",
   "execution_count": 169,
   "id": "d480f5ca-6b3d-414b-ab19-39603ef85a31",
   "metadata": {},
   "outputs": [],
   "source": [
    "from matplotlib.patches import Ellipse\n",
    "\n",
    "def draw_ellipse(position, covariance, ax=None, **kwargs):\n",
    "    \"\"\"Draw an ellipse with a given position and covariance\"\"\"\n",
    "    ax = ax or plt.gca()\n",
    "    \n",
    "    # Convert covariance to principal axes\n",
    "    if covariance.shape == (2, 2):\n",
    "        U, s, Vt = np.linalg.svd(covariance)\n",
    "        angle = np.degrees(np.arctan2(U[1, 0], U[0, 0]))\n",
    "        width, height = 2 * np.sqrt(s)\n",
    "    else:\n",
    "        angle = 0\n",
    "        width, height = 2 * np.sqrt(covariance)\n",
    "    \n",
    "    # Draw the Ellipse\n",
    "    for nsig in range(1, 4):\n",
    "        ax.add_patch(Ellipse(position, nsig * width, nsig * height,\n",
    "                             angle, **kwargs))\n",
    "        \n",
    "def plot_gmm(gmm, X, label=True, ax=None):\n",
    "    ax = ax or plt.gca()\n",
    "    labels = gmm.fit(X).predict(X)\n",
    "    if label:\n",
    "        ax.scatter(df['PURCHASES'], df['TENURE'], c=labels, s=40, cmap='viridis', zorder=2)\n",
    "    else:\n",
    "        ax.scatter(df['PURCHASES'], df['TENURE'], s=40, zorder=2)\n",
    "    ax.axis('equal')\n",
    "    \n",
    "    w_factor = 0.2 / gmm.weights_.max()\n",
    "    for pos, covar, w in zip(gmm.means_, gmm.covars_, gmm.weights_):\n",
    "        draw_ellipse(pos, covar, alpha=w * w_factor)"
   ]
  },
  {
   "cell_type": "code",
   "execution_count": 170,
   "id": "cf8a43a1-568d-4549-b749-9c0fe0bf9aaa",
   "metadata": {},
   "outputs": [
    {
     "ename": "AttributeError",
     "evalue": "'GaussianMixture' object has no attribute 'covars_'",
     "output_type": "error",
     "traceback": [
      "\u001b[0;31m---------------------------------------------------------------------------\u001b[0m",
      "\u001b[0;31mAttributeError\u001b[0m                            Traceback (most recent call last)",
      "Input \u001b[0;32mIn [170]\u001b[0m, in \u001b[0;36m<cell line: 2>\u001b[0;34m()\u001b[0m\n\u001b[1;32m      1\u001b[0m gmm2 \u001b[38;5;241m=\u001b[39m GaussianMixture(n_components\u001b[38;5;241m=\u001b[39m\u001b[38;5;241m2\u001b[39m, covariance_type\u001b[38;5;241m=\u001b[39m\u001b[38;5;124m'\u001b[39m\u001b[38;5;124mfull\u001b[39m\u001b[38;5;124m'\u001b[39m, random_state\u001b[38;5;241m=\u001b[39m\u001b[38;5;241m0\u001b[39m)\n\u001b[0;32m----> 2\u001b[0m \u001b[43mplot_gmm\u001b[49m\u001b[43m(\u001b[49m\u001b[43mgmm2\u001b[49m\u001b[43m,\u001b[49m\u001b[43m \u001b[49m\u001b[43mdf\u001b[49m\u001b[43m)\u001b[49m\n",
      "Input \u001b[0;32mIn [169]\u001b[0m, in \u001b[0;36mplot_gmm\u001b[0;34m(gmm, X, label, ax)\u001b[0m\n\u001b[1;32m     28\u001b[0m ax\u001b[38;5;241m.\u001b[39maxis(\u001b[38;5;124m'\u001b[39m\u001b[38;5;124mequal\u001b[39m\u001b[38;5;124m'\u001b[39m)\n\u001b[1;32m     30\u001b[0m w_factor \u001b[38;5;241m=\u001b[39m \u001b[38;5;241m0.2\u001b[39m \u001b[38;5;241m/\u001b[39m gmm\u001b[38;5;241m.\u001b[39mweights_\u001b[38;5;241m.\u001b[39mmax()\n\u001b[0;32m---> 31\u001b[0m \u001b[38;5;28;01mfor\u001b[39;00m pos, covar, w \u001b[38;5;129;01min\u001b[39;00m \u001b[38;5;28mzip\u001b[39m(gmm\u001b[38;5;241m.\u001b[39mmeans_, \u001b[43mgmm\u001b[49m\u001b[38;5;241;43m.\u001b[39;49m\u001b[43mcovars_\u001b[49m, gmm\u001b[38;5;241m.\u001b[39mweights_):\n\u001b[1;32m     32\u001b[0m     draw_ellipse(pos, covar, alpha\u001b[38;5;241m=\u001b[39mw \u001b[38;5;241m*\u001b[39m w_factor)\n",
      "\u001b[0;31mAttributeError\u001b[0m: 'GaussianMixture' object has no attribute 'covars_'"
     ]
    },
    {
     "data": {
      "image/png": "[encoded data removed]",
      "text/plain": [
       "<Figure size 432x288 with 1 Axes>"
      ]
     },
     "metadata": {
      "needs_background": "light"
     },
     "output_type": "display_data"
    }
   ],
   "source": [
    "gmm2 = GaussianMixture(n_components=2, covariance_type='full', random_state=0)\n",
    "plot_gmm(gmm2, df)"
   ]
  },
  {
   "cell_type": "code",
   "execution_count": 172,
   "id": "ef9ab2a3-68b6-4cf3-adca-87db071fa3fe",
   "metadata": {},
   "outputs": [
    {
     "ename": "AttributeError",
     "evalue": "'GaussianMixture' object has no attribute 'covars_'",
     "output_type": "error",
     "traceback": [
      "\u001b[0;31m---------------------------------------------------------------------------\u001b[0m",
      "\u001b[0;31mAttributeError\u001b[0m                            Traceback (most recent call last)",
      "Input \u001b[0;32mIn [172]\u001b[0m, in \u001b[0;36m<cell line: 2>\u001b[0;34m()\u001b[0m\n\u001b[1;32m      1\u001b[0m gmm16 \u001b[38;5;241m=\u001b[39m GaussianMixture(n_components\u001b[38;5;241m=\u001b[39m\u001b[38;5;241m20\u001b[39m, covariance_type\u001b[38;5;241m=\u001b[39m\u001b[38;5;124m'\u001b[39m\u001b[38;5;124mfull\u001b[39m\u001b[38;5;124m'\u001b[39m, random_state\u001b[38;5;241m=\u001b[39m\u001b[38;5;241m0\u001b[39m)\n\u001b[0;32m----> 2\u001b[0m \u001b[43mplot_gmm\u001b[49m\u001b[43m(\u001b[49m\u001b[43mgmm16\u001b[49m\u001b[43m,\u001b[49m\u001b[43m \u001b[49m\u001b[43mdf\u001b[49m\u001b[43m,\u001b[49m\u001b[43m \u001b[49m\u001b[43mlabel\u001b[49m\u001b[38;5;241;43m=\u001b[39;49m\u001b[38;5;28;43;01mFalse\u001b[39;49;00m\u001b[43m)\u001b[49m\n",
      "Input \u001b[0;32mIn [169]\u001b[0m, in \u001b[0;36mplot_gmm\u001b[0;34m(gmm, X, label, ax)\u001b[0m\n\u001b[1;32m     28\u001b[0m ax\u001b[38;5;241m.\u001b[39maxis(\u001b[38;5;124m'\u001b[39m\u001b[38;5;124mequal\u001b[39m\u001b[38;5;124m'\u001b[39m)\n\u001b[1;32m     30\u001b[0m w_factor \u001b[38;5;241m=\u001b[39m \u001b[38;5;241m0.2\u001b[39m \u001b[38;5;241m/\u001b[39m gmm\u001b[38;5;241m.\u001b[39mweights_\u001b[38;5;241m.\u001b[39mmax()\n\u001b[0;32m---> 31\u001b[0m \u001b[38;5;28;01mfor\u001b[39;00m pos, covar, w \u001b[38;5;129;01min\u001b[39;00m \u001b[38;5;28mzip\u001b[39m(gmm\u001b[38;5;241m.\u001b[39mmeans_, \u001b[43mgmm\u001b[49m\u001b[38;5;241;43m.\u001b[39;49m\u001b[43mcovars_\u001b[49m, gmm\u001b[38;5;241m.\u001b[39mweights_):\n\u001b[1;32m     32\u001b[0m     draw_ellipse(pos, covar, alpha\u001b[38;5;241m=\u001b[39mw \u001b[38;5;241m*\u001b[39m w_factor)\n",
      "\u001b[0;31mAttributeError\u001b[0m: 'GaussianMixture' object has no attribute 'covars_'"
     ]
    },
    {
     "data": {
      "image/png": "[encoded data removed]",
      "text/plain": [
       "<Figure size 432x288 with 1 Axes>"
      ]
     },
     "metadata": {
      "needs_background": "light"
     },
     "output_type": "display_data"
    }
   ],
   "source": [
    "gmm16 = GaussianMixture(n_components=20, covariance_type='full', random_state=0)\n",
    "plot_gmm(gmm16, df, label=False)"
   ]
  },
  {
   "cell_type": "code",
   "execution_count": null,
   "id": "58ddf600-8d18-406e-90fd-27daf7c3a4d3",
   "metadata": {},
   "outputs": [],
   "source": [
    "n_components = np.arange(1, 15)\n",
    "models = [GaussianMixture(n, covariance_type='full', random_state=42).fit(df)\n",
    "          for n in n_components]\n",
    "\n",
    "plt.plot(n_components, [m.bic(df) for m in models], label='BIC')\n",
    "plt.plot(n_components, [m.aic(df) for m in models], label='AIC')\n",
    "plt.legend(loc='best')\n",
    "plt.xlabel('n_components');"
   ]
  },
  {
   "cell_type": "code",
   "execution_count": 186,
   "id": "4174788e-4658-44f1-b43f-f4770dd6b611",
   "metadata": {},
   "outputs": [
    {
     "name": "stdout",
     "output_type": "stream",
     "text": [
      "gmm: silhouttte:  -0.23452395535765416\n"
     ]
    }
   ],
   "source": [
    "from sklearn.metrics import silhouette_score\n",
    "gmm = GaussianMixture(n_components=4)\n",
    "\n",
    "gmm.fit(df)\n",
    "\n",
    "pred = gmm.predict(df)\n",
    "\n",
    "print (\"gmm: silhouttte: \", silhouette_score(df, pred))"
   ]
  },
  {
   "cell_type": "code",
   "execution_count": null,
   "id": "7bbe167b-3d02-4042-960a-56c3bdb531e7",
   "metadata": {},
   "outputs": [],
   "source": []
  },
  {
   "cell_type": "code",
   "execution_count": null,
   "id": "2c46284b-be8c-4567-b903-102513ee454c",
   "metadata": {},
   "outputs": [],
   "source": []
  }
 ],
 "metadata": {
  "kernelspec": {
   "display_name": "Python 3 (ipykernel)",
   "language": "python",
   "name": "python3"
  },
  "language_info": {
   "codemirror_mode": {
    "name": "ipython",
    "version": 3
   },
   "file_extension": ".py",
   "mimetype": "text/x-python",
   "name": "python",
   "nbconvert_exporter": "python",
   "pygments_lexer": "ipython3",
   "version": "3.8.13"
  }
 },
 "nbformat": 4,
 "nbformat_minor": 5
}
